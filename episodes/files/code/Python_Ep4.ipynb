{
  "nbformat": 4,
  "nbformat_minor": 0,
  "metadata": {
    "colab": {
      "provenance": [],
      "authorship_tag": "ABX9TyNektfapvXCo8qu/5RjitXS",
      "include_colab_link": true
    },
    "kernelspec": {
      "name": "python3",
      "display_name": "Python 3"
    },
    "language_info": {
      "name": "python"
    }
  },
  "cells": [
    {
      "cell_type": "markdown",
      "metadata": {
        "id": "view-in-github",
        "colab_type": "text"
      },
      "source": [
        "<a href=\"https://colab.research.google.com/github/broadinstitute/2024-06-24-python-novice-lesson/blob/jlc_final_edits/episodes/files/code/Python_Ep4.ipynb\" target=\"_parent\"><img src=\"https://colab.research.google.com/assets/colab-badge.svg\" alt=\"Open In Colab\"/></a>"
      ]
    },
    {
      "cell_type": "markdown",
      "source": [
        "## Intro to Python Epsiode 4"
      ],
      "metadata": {
        "id": "ZrGqsPsaO6jn"
      }
    },
    {
      "cell_type": "code",
      "execution_count": 1,
      "metadata": {
        "id": "iLAP_8-FaRIw",
        "colab": {
          "base_uri": "https://localhost:8080/"
        },
        "outputId": "bf0841ad-84c8-488b-832c-54d25ee54506"
      },
      "outputs": [
        {
          "output_type": "stream",
          "name": "stdout",
          "text": [
            "odds are: [1, 3, 5, 7]\n"
          ]
        }
      ],
      "source": [
        "odds = [1, 3, 5, 7]\n",
        "print('odds are:', odds)"
      ]
    },
    {
      "cell_type": "code",
      "source": [
        "print('first element:', odds[0])\n",
        "print('last element:', odds[3])\n",
        "print('\"-1\" element:', odds[-1])"
      ],
      "metadata": {
        "colab": {
          "base_uri": "https://localhost:8080/"
        },
        "id": "GvsOuDDT84H0",
        "outputId": "c24f053d-6bdf-4de5-a9a3-c2eb85fd8598"
      },
      "execution_count": 2,
      "outputs": [
        {
          "output_type": "stream",
          "name": "stdout",
          "text": [
            "first element: 1\n",
            "last element: 7\n",
            "\"-1\" element: 7\n"
          ]
        }
      ]
    },
    {
      "cell_type": "code",
      "source": [
        "names = ['Curie', 'Darwing', 'Turing']  # typo in Darwin's name\n",
        "print('names is originally:', names)\n",
        "names[1] = 'Darwin'  # correct the name\n",
        "print('final value of names:', names)"
      ],
      "metadata": {
        "colab": {
          "base_uri": "https://localhost:8080/"
        },
        "id": "sq58VqTz-4tH",
        "outputId": "e2cb39ad-20af-461a-8353-f27e47363bac"
      },
      "execution_count": 3,
      "outputs": [
        {
          "output_type": "stream",
          "name": "stdout",
          "text": [
            "names is originally: ['Curie', 'Darwing', 'Turing']\n",
            "final value of names: ['Curie', 'Darwin', 'Turing']\n"
          ]
        }
      ]
    },
    {
      "cell_type": "code",
      "source": [
        "name = 'Darwin'\n",
        "name[0] = 'd'"
      ],
      "metadata": {
        "colab": {
          "base_uri": "https://localhost:8080/",
          "height": 162
        },
        "id": "6YeNxaxi-9j5",
        "outputId": "6fbe18d1-b115-4824-cd62-0df0416866c8"
      },
      "execution_count": 4,
      "outputs": [
        {
          "output_type": "error",
          "ename": "TypeError",
          "evalue": "'str' object does not support item assignment",
          "traceback": [
            "\u001b[0;31m---------------------------------------------------------------------------\u001b[0m",
            "\u001b[0;31mTypeError\u001b[0m                                 Traceback (most recent call last)",
            "\u001b[0;32m<ipython-input-4-9030064e45ad>\u001b[0m in \u001b[0;36m<cell line: 2>\u001b[0;34m()\u001b[0m\n\u001b[1;32m      1\u001b[0m \u001b[0mname\u001b[0m \u001b[0;34m=\u001b[0m \u001b[0;34m'Darwin'\u001b[0m\u001b[0;34m\u001b[0m\u001b[0;34m\u001b[0m\u001b[0m\n\u001b[0;32m----> 2\u001b[0;31m \u001b[0mname\u001b[0m\u001b[0;34m[\u001b[0m\u001b[0;36m0\u001b[0m\u001b[0;34m]\u001b[0m \u001b[0;34m=\u001b[0m \u001b[0;34m'd'\u001b[0m\u001b[0;34m\u001b[0m\u001b[0;34m\u001b[0m\u001b[0m\n\u001b[0m",
            "\u001b[0;31mTypeError\u001b[0m: 'str' object does not support item assignment"
          ]
        }
      ]
    },
    {
      "cell_type": "code",
      "source": [
        "mild_salsa = ['peppers', 'onions', 'cilantro', 'tomatoes']\n",
        "hot_salsa = mild_salsa        # <-- mild_salsa and hot_salsa point to the *same* list data in memory\n",
        "hot_salsa[0] = 'hot peppers'\n",
        "print('Ingredients in mild salsa:', mild_salsa)\n",
        "print('Ingredients in hot salsa:', hot_salsa)"
      ],
      "metadata": {
        "colab": {
          "base_uri": "https://localhost:8080/"
        },
        "id": "Gd6mn269_A4S",
        "outputId": "f3961952-22f3-44d0-b44a-0777ed14afb1"
      },
      "execution_count": 5,
      "outputs": [
        {
          "output_type": "stream",
          "name": "stdout",
          "text": [
            "Ingredients in mild salsa: ['hot peppers', 'onions', 'cilantro', 'tomatoes']\n",
            "Ingredients in hot salsa: ['hot peppers', 'onions', 'cilantro', 'tomatoes']\n"
          ]
        }
      ]
    },
    {
      "cell_type": "code",
      "source": [
        "mild_salsa = ['peppers', 'onions', 'cilantro', 'tomatoes']\n",
        "hot_salsa = list(mild_salsa)        # <-- makes a *copy* of the list\n",
        "hot_salsa[0] = 'hot peppers'\n",
        "print('Ingredients in mild salsa:', mild_salsa)\n",
        "print('Ingredients in hot salsa:', hot_salsa)"
      ],
      "metadata": {
        "colab": {
          "base_uri": "https://localhost:8080/"
        },
        "id": "nSaEO-uO_PxM",
        "outputId": "1716815b-a221-4fb4-de05-a8e44e193d67"
      },
      "execution_count": 6,
      "outputs": [
        {
          "output_type": "stream",
          "name": "stdout",
          "text": [
            "Ingredients in mild salsa: ['peppers', 'onions', 'cilantro', 'tomatoes']\n",
            "Ingredients in hot salsa: ['hot peppers', 'onions', 'cilantro', 'tomatoes']\n"
          ]
        }
      ]
    },
    {
      "cell_type": "code",
      "source": [
        "veg = [['lettuce', 'lettuce', 'peppers', 'zucchini'],\n",
        "     ['lettuce', 'lettuce', 'peppers', 'zucchini'],\n",
        "     ['lettuce', 'cilantro', 'peppers', 'zucchini']]"
      ],
      "metadata": {
        "id": "FW0NGq9U_U-Q"
      },
      "execution_count": 8,
      "outputs": []
    },
    {
      "cell_type": "code",
      "source": [
        "print(veg[2])"
      ],
      "metadata": {
        "colab": {
          "base_uri": "https://localhost:8080/"
        },
        "id": "o6c0pOs7_Zb_",
        "outputId": "9b1fe2b9-0afa-490e-daf3-449100aa8288"
      },
      "execution_count": 9,
      "outputs": [
        {
          "output_type": "stream",
          "name": "stdout",
          "text": [
            "['lettuce', 'cilantro', 'peppers', 'zucchini']\n"
          ]
        }
      ]
    },
    {
      "cell_type": "code",
      "source": [
        "print(veg[0])"
      ],
      "metadata": {
        "colab": {
          "base_uri": "https://localhost:8080/"
        },
        "id": "D_4iCD77_ctg",
        "outputId": "dafe088d-3444-41e3-d662-c20dd7c3daa7"
      },
      "execution_count": 10,
      "outputs": [
        {
          "output_type": "stream",
          "name": "stdout",
          "text": [
            "['lettuce', 'lettuce', 'peppers', 'zucchini']\n"
          ]
        }
      ]
    },
    {
      "cell_type": "code",
      "source": [
        "print(veg[0][0])"
      ],
      "metadata": {
        "colab": {
          "base_uri": "https://localhost:8080/"
        },
        "id": "g2R0wYB0_gf2",
        "outputId": "d1ef0d2d-6cdf-46f1-9848-afff6d87eef8"
      },
      "execution_count": 11,
      "outputs": [
        {
          "output_type": "stream",
          "name": "stdout",
          "text": [
            "lettuce\n"
          ]
        }
      ]
    },
    {
      "cell_type": "code",
      "source": [
        "print(veg[1][2])"
      ],
      "metadata": {
        "colab": {
          "base_uri": "https://localhost:8080/"
        },
        "id": "oMv8ONVz_jnI",
        "outputId": "97798d3e-2c74-4b5a-ab9e-7de01d8735c0"
      },
      "execution_count": 12,
      "outputs": [
        {
          "output_type": "stream",
          "name": "stdout",
          "text": [
            "peppers\n"
          ]
        }
      ]
    },
    {
      "cell_type": "code",
      "source": [
        "sample_ages = [10, 12.5, 'Unknown']"
      ],
      "metadata": {
        "id": "1d1_L4vy_lkQ"
      },
      "execution_count": 13,
      "outputs": []
    },
    {
      "cell_type": "code",
      "source": [
        "odds.append(11)\n",
        "print('odds after adding a value:', odds)"
      ],
      "metadata": {
        "colab": {
          "base_uri": "https://localhost:8080/"
        },
        "id": "Zwu04QaM_oIx",
        "outputId": "83a4816d-a15b-4176-e5a5-b23424bda0a0"
      },
      "execution_count": 14,
      "outputs": [
        {
          "output_type": "stream",
          "name": "stdout",
          "text": [
            "odds after adding a value: [1, 3, 5, 7, 11]\n"
          ]
        }
      ]
    },
    {
      "cell_type": "code",
      "source": [
        "removed_element = odds.pop(0)\n",
        "print('odds after removing the first element:', odds)\n",
        "print('removed_element:', removed_element)"
      ],
      "metadata": {
        "colab": {
          "base_uri": "https://localhost:8080/"
        },
        "id": "ZeKDdRNW_q7Y",
        "outputId": "f18cd4d5-58f7-4432-a10a-6541fa39e1e6"
      },
      "execution_count": 15,
      "outputs": [
        {
          "output_type": "stream",
          "name": "stdout",
          "text": [
            "odds after removing the first element: [3, 5, 7, 11]\n",
            "removed_element: 1\n"
          ]
        }
      ]
    },
    {
      "cell_type": "code",
      "source": [
        "odds.reverse()\n",
        "print('odds after reversing:', odds)"
      ],
      "metadata": {
        "colab": {
          "base_uri": "https://localhost:8080/"
        },
        "id": "Ozwa48nA_tGL",
        "outputId": "ec05deba-5840-4bde-f98e-c8ec99c90d81"
      },
      "execution_count": 16,
      "outputs": [
        {
          "output_type": "stream",
          "name": "stdout",
          "text": [
            "odds after reversing: [11, 7, 5, 3]\n"
          ]
        }
      ]
    },
    {
      "cell_type": "code",
      "source": [
        "odds = [3, 5, 7]\n",
        "primes = odds\n",
        "primes.append(2)\n",
        "print('primes:', primes)\n",
        "print('odds:', odds)"
      ],
      "metadata": {
        "colab": {
          "base_uri": "https://localhost:8080/"
        },
        "id": "S1zvb9Zo_vTO",
        "outputId": "44f946aa-b203-4dec-fb8e-7b0fbc18db4a"
      },
      "execution_count": 17,
      "outputs": [
        {
          "output_type": "stream",
          "name": "stdout",
          "text": [
            "primes: [3, 5, 7, 2]\n",
            "odds: [3, 5, 7, 2]\n"
          ]
        }
      ]
    },
    {
      "cell_type": "code",
      "source": [
        "odds = [3, 5, 7]\n",
        "primes = list(odds)\n",
        "primes.append(2)\n",
        "print('primes:', primes)\n",
        "print('odds:', odds)"
      ],
      "metadata": {
        "colab": {
          "base_uri": "https://localhost:8080/"
        },
        "id": "k5Q79vI1_yWO",
        "outputId": "c0751fae-354c-4588-bfe3-eb522a995d00"
      },
      "execution_count": 18,
      "outputs": [
        {
          "output_type": "stream",
          "name": "stdout",
          "text": [
            "primes: [3, 5, 7, 2]\n",
            "odds: [3, 5, 7]\n"
          ]
        }
      ]
    },
    {
      "cell_type": "code",
      "source": [
        "binomial_name = 'Drosophila melanogaster'\n",
        "group = binomial_name[0:10]\n",
        "print('group:', group)\n",
        "\n",
        "species = binomial_name[11:23]\n",
        "print('species:', species)\n",
        "\n",
        "chromosomes = ['X', 'Y', '2', '3', '4']\n",
        "autosomes = chromosomes[2:5]\n",
        "print('autosomes:', autosomes)\n",
        "\n",
        "last = chromosomes[-1]\n",
        "print('last:', last)"
      ],
      "metadata": {
        "colab": {
          "base_uri": "https://localhost:8080/"
        },
        "id": "EqB6tBnq_1DJ",
        "outputId": "b14d8539-65bb-4d58-9726-03fde78f9318"
      },
      "execution_count": 19,
      "outputs": [
        {
          "output_type": "stream",
          "name": "stdout",
          "text": [
            "group: Drosophila\n",
            "species: melanogaster\n",
            "autosomes: ['2', '3', '4']\n",
            "last: 4\n"
          ]
        }
      ]
    },
    {
      "cell_type": "code",
      "source": [
        "string_for_slicing = 'Observation date: 02-Feb-2013'\n",
        "list_for_slicing = [['fluorine', 'F'],\n",
        "                    ['chlorine', 'Cl'],\n",
        "                    ['bromine', 'Br'],\n",
        "                    ['iodine', 'I'],\n",
        "                    ['astatine', 'At']]"
      ],
      "metadata": {
        "id": "NYuaCngFAFDO"
      },
      "execution_count": 8,
      "outputs": []
    },
    {
      "cell_type": "code",
      "source": [
        "print(string_for_slicing[-4:])\n",
        "print(list_for_slicing[-4:])"
      ],
      "metadata": {
        "colab": {
          "base_uri": "https://localhost:8080/"
        },
        "id": "kYHzC_KJAIGK",
        "outputId": "8cd981d8-484b-45d5-96ea-5e057c5ddf68"
      },
      "execution_count": 9,
      "outputs": [
        {
          "output_type": "stream",
          "name": "stdout",
          "text": [
            "2013\n",
            "[['chlorine', 'Cl'], ['bromine', 'Br'], ['iodine', 'I'], ['astatine', 'At']]\n"
          ]
        }
      ]
    },
    {
      "cell_type": "markdown",
      "source": [
        "Bonus Challenge: not covered in workshop"
      ],
      "metadata": {
        "id": "yYgLr6kMiiak"
      }
    },
    {
      "cell_type": "code",
      "source": [
        "primes = [2, 3, 5, 7, 11, 13, 17, 19, 23, 29, 31, 37]\n",
        "subset = primes[0:12:3]\n",
        "print('subset', subset)"
      ],
      "metadata": {
        "colab": {
          "base_uri": "https://localhost:8080/"
        },
        "id": "wPW7VlTDATSZ",
        "outputId": "9e08f913-d6bc-4119-cff5-dae39027392d"
      },
      "execution_count": 22,
      "outputs": [
        {
          "output_type": "stream",
          "name": "stdout",
          "text": [
            "subset [2, 7, 17, 29]\n"
          ]
        }
      ]
    },
    {
      "cell_type": "code",
      "source": [
        "primes = [2, 3, 5, 7, 11, 13, 17, 19, 23, 29, 31, 37]\n",
        "subset = primes[2:12:3]\n",
        "print('subset', subset)"
      ],
      "metadata": {
        "colab": {
          "base_uri": "https://localhost:8080/"
        },
        "id": "2eMwsBYJAVhY",
        "outputId": "d8f59d21-8769-432a-f1ff-29add310a982"
      },
      "execution_count": 23,
      "outputs": [
        {
          "output_type": "stream",
          "name": "stdout",
          "text": [
            "subset [5, 13, 23, 37]\n"
          ]
        }
      ]
    },
    {
      "cell_type": "code",
      "source": [
        "beatles = \"In an octopus's garden in the shade\""
      ],
      "metadata": {
        "id": "iwH7X5uRAYFZ"
      },
      "execution_count": 24,
      "outputs": []
    },
    {
      "cell_type": "code",
      "source": [
        "beatles[0:35:2]"
      ],
      "metadata": {
        "colab": {
          "base_uri": "https://localhost:8080/",
          "height": 35
        },
        "id": "zGIFeiNtAaT8",
        "outputId": "4e18dd6b-f5e5-432a-e331-9b94771cea94"
      },
      "execution_count": 25,
      "outputs": [
        {
          "output_type": "execute_result",
          "data": {
            "text/plain": [
              "'I notpssgre ntesae'"
            ],
            "application/vnd.google.colaboratory.intrinsic+json": {
              "type": "string"
            }
          },
          "metadata": {},
          "execution_count": 25
        }
      ]
    },
    {
      "cell_type": "code",
      "source": [
        "beatles[::2]"
      ],
      "metadata": {
        "colab": {
          "base_uri": "https://localhost:8080/",
          "height": 35
        },
        "id": "zjuPr-DkCscn",
        "outputId": "ebe96167-dc6b-4451-b96b-bd2380779db3"
      },
      "execution_count": 27,
      "outputs": [
        {
          "output_type": "execute_result",
          "data": {
            "text/plain": [
              "'I notpssgre ntesae'"
            ],
            "application/vnd.google.colaboratory.intrinsic+json": {
              "type": "string"
            }
          },
          "metadata": {},
          "execution_count": 27
        }
      ]
    },
    {
      "cell_type": "markdown",
      "source": [
        "End of Bonus challenge"
      ],
      "metadata": {
        "id": "kbgxNHKFitx0"
      }
    },
    {
      "cell_type": "code",
      "source": [
        "date = 'Monday 4 January 2016'\n",
        "day = date[0:6]\n",
        "print('Using 0 to begin range:', day)\n",
        "day = date[:6]\n",
        "print('Omitting beginning index:', day)"
      ],
      "metadata": {
        "colab": {
          "base_uri": "https://localhost:8080/"
        },
        "id": "-zWUTFiQCxAp",
        "outputId": "f989ba0e-03f9-46f5-bea8-1198d897ef4a"
      },
      "execution_count": 28,
      "outputs": [
        {
          "output_type": "stream",
          "name": "stdout",
          "text": [
            "Using 0 to begin range: Monday\n",
            "Omitting beginning index: Monday\n"
          ]
        }
      ]
    },
    {
      "cell_type": "code",
      "source": [
        "months = ['jan', 'feb', 'mar', 'apr', 'may', 'jun', 'jul', 'aug', 'sep', 'oct', 'nov', 'dec']\n",
        "sond = months[8:12]\n",
        "print('With known last position:', sond)\n",
        "sond = months[8:len(months)]\n",
        "print('Using len() to get last entry:', sond)\n",
        "sond = months[8:]\n",
        "print('Omitting ending index:', sond)"
      ],
      "metadata": {
        "colab": {
          "base_uri": "https://localhost:8080/"
        },
        "id": "ueQTfzNgC1B9",
        "outputId": "cf7e831c-dcb6-4d84-c1b4-2e5533113a98"
      },
      "execution_count": 29,
      "outputs": [
        {
          "output_type": "stream",
          "name": "stdout",
          "text": [
            "With known last position: ['sep', 'oct', 'nov', 'dec']\n",
            "Using len() to get last entry: ['sep', 'oct', 'nov', 'dec']\n",
            "Omitting ending index: ['sep', 'oct', 'nov', 'dec']\n"
          ]
        }
      ]
    },
    {
      "cell_type": "code",
      "source": [
        "counts = [2, 4, 6, 8, 10]\n",
        "repeats = counts * 2\n",
        "print(repeats)"
      ],
      "metadata": {
        "colab": {
          "base_uri": "https://localhost:8080/"
        },
        "id": "9hsE4xXdDKFI",
        "outputId": "77b0f2ba-b463-4d63-cb3b-e45179f3d429"
      },
      "execution_count": 30,
      "outputs": [
        {
          "output_type": "stream",
          "name": "stdout",
          "text": [
            "[2, 4, 6, 8, 10, 2, 4, 6, 8, 10]\n"
          ]
        }
      ]
    },
    {
      "cell_type": "code",
      "source": [
        "counts + counts"
      ],
      "metadata": {
        "colab": {
          "base_uri": "https://localhost:8080/"
        },
        "id": "oTh1kDlhDLry",
        "outputId": "0778994e-41a7-4e71-a619-e07e081daf5d"
      },
      "execution_count": 31,
      "outputs": [
        {
          "output_type": "execute_result",
          "data": {
            "text/plain": [
              "[2, 4, 6, 8, 10, 2, 4, 6, 8, 10]"
            ]
          },
          "metadata": {},
          "execution_count": 31
        }
      ]
    },
    {
      "cell_type": "code",
      "source": [],
      "metadata": {
        "id": "WceWcLkDDP-j"
      },
      "execution_count": null,
      "outputs": []
    }
  ]
}