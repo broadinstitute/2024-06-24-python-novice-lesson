{
  "nbformat": 4,
  "nbformat_minor": 0,
  "metadata": {
    "colab": {
      "provenance": [],
      "include_colab_link": true
    },
    "kernelspec": {
      "name": "python3",
      "display_name": "Python 3"
    },
    "language_info": {
      "name": "python"
    }
  },
  "cells": [
    {
      "cell_type": "markdown",
      "metadata": {
        "id": "view-in-github",
        "colab_type": "text"
      },
      "source": [
        "<a href=\"https://colab.research.google.com/github/broadinstitute/2024-06-24-python-novice-lesson/blob/jlc_final_edits/episodes/files/code/Python_Ep2.ipynb\" target=\"_parent\"><img src=\"https://colab.research.google.com/assets/colab-badge.svg\" alt=\"Open In Colab\"/></a>"
      ]
    },
    {
      "cell_type": "markdown",
      "source": [
        "## Intro to Python Epsiode 2"
      ],
      "metadata": {
        "id": "1WZ5fTA-0LNd"
      }
    },
    {
      "cell_type": "markdown",
      "source": [
        "### You will need to grant Google several access permissions."
      ],
      "metadata": {
        "id": "WwUHCEtF8ILe"
      }
    },
    {
      "cell_type": "code",
      "source": [
        "from google.colab import drive\n",
        "drive.mount('/content/drive')"
      ],
      "metadata": {
        "colab": {
          "base_uri": "https://localhost:8080/"
        },
        "id": "clY31XFq10PA",
        "outputId": "e04b1a7d-97d7-4810-8ff2-0e9020094e2a"
      },
      "execution_count": 1,
      "outputs": [
        {
          "output_type": "stream",
          "name": "stdout",
          "text": [
            "Mounted at /content/drive\n"
          ]
        }
      ]
    },
    {
      "cell_type": "code",
      "source": [
        "file_path = '/content/drive/MyDrive/swc-python/data/'"
      ],
      "metadata": {
        "id": "LMdpeYvtA0Rh"
      },
      "execution_count": 2,
      "outputs": []
    },
    {
      "cell_type": "code",
      "source": [
        "import numpy"
      ],
      "metadata": {
        "id": "2ogl4nzZ1UI3"
      },
      "execution_count": 4,
      "outputs": []
    },
    {
      "cell_type": "code",
      "source": [
        "numpy.loadtxt(fname=file_path + 'inflammation-01.csv', delimiter=',')"
      ],
      "metadata": {
        "colab": {
          "base_uri": "https://localhost:8080/"
        },
        "id": "hw03a-7m5uFb",
        "outputId": "53ab2d28-ca2b-41be-be4e-c7fea7e87d19"
      },
      "execution_count": null,
      "outputs": [
        {
          "output_type": "execute_result",
          "data": {
            "text/plain": [
              "array([[0., 0., 1., ..., 3., 0., 0.],\n",
              "       [0., 1., 2., ..., 1., 0., 1.],\n",
              "       [0., 1., 1., ..., 2., 1., 1.],\n",
              "       ...,\n",
              "       [0., 1., 1., ..., 1., 1., 1.],\n",
              "       [0., 0., 0., ..., 0., 2., 0.],\n",
              "       [0., 0., 1., ..., 1., 1., 0.]])"
            ]
          },
          "metadata": {},
          "execution_count": 6
        }
      ]
    },
    {
      "cell_type": "code",
      "source": [
        "data = numpy.loadtxt(fname=file_path + 'inflammation-01.csv', delimiter=',')"
      ],
      "metadata": {
        "id": "5_dUqOU-59NB"
      },
      "execution_count": 11,
      "outputs": []
    },
    {
      "cell_type": "code",
      "source": [
        "print(data)"
      ],
      "metadata": {
        "colab": {
          "base_uri": "https://localhost:8080/"
        },
        "id": "mvF4unl86CpB",
        "outputId": "084b5902-44a5-4f6e-c972-a4f1cd2a8c9b"
      },
      "execution_count": null,
      "outputs": [
        {
          "output_type": "stream",
          "name": "stdout",
          "text": [
            "[[0. 0. 1. ... 3. 0. 0.]\n",
            " [0. 1. 2. ... 1. 0. 1.]\n",
            " [0. 1. 1. ... 2. 1. 1.]\n",
            " ...\n",
            " [0. 1. 1. ... 1. 1. 1.]\n",
            " [0. 0. 0. ... 0. 2. 0.]\n",
            " [0. 0. 1. ... 1. 1. 0.]]\n"
          ]
        }
      ]
    },
    {
      "cell_type": "code",
      "source": [
        "print(type(data))"
      ],
      "metadata": {
        "colab": {
          "base_uri": "https://localhost:8080/"
        },
        "id": "_sEhqzwS6FmQ",
        "outputId": "5c5c942d-91f7-4ed4-cbec-ef74dbe6ce3f"
      },
      "execution_count": null,
      "outputs": [
        {
          "output_type": "stream",
          "name": "stdout",
          "text": [
            "<class 'numpy.ndarray'>\n"
          ]
        }
      ]
    },
    {
      "cell_type": "code",
      "source": [
        "print(data.dtype)"
      ],
      "metadata": {
        "colab": {
          "base_uri": "https://localhost:8080/"
        },
        "id": "wPtVxhxQ6K2m",
        "outputId": "b08756db-a8ff-4283-9f41-24b7b58510a4"
      },
      "execution_count": null,
      "outputs": [
        {
          "output_type": "stream",
          "name": "stdout",
          "text": [
            "float64\n"
          ]
        }
      ]
    },
    {
      "cell_type": "code",
      "source": [
        "print(data.shape)"
      ],
      "metadata": {
        "colab": {
          "base_uri": "https://localhost:8080/"
        },
        "id": "YX4qkzUu6OPA",
        "outputId": "e9026b24-ac25-4e36-967b-24a37a345b80"
      },
      "execution_count": null,
      "outputs": [
        {
          "output_type": "stream",
          "name": "stdout",
          "text": [
            "(60, 40)\n"
          ]
        }
      ]
    },
    {
      "cell_type": "code",
      "source": [
        "print('first value in data:', data[0, 0])"
      ],
      "metadata": {
        "colab": {
          "base_uri": "https://localhost:8080/"
        },
        "id": "zUOuLikG6Rwx",
        "outputId": "9254ef4b-27b6-46df-b939-ca046ae04679"
      },
      "execution_count": null,
      "outputs": [
        {
          "output_type": "stream",
          "name": "stdout",
          "text": [
            "first value in data: 0.0\n"
          ]
        }
      ]
    },
    {
      "cell_type": "code",
      "source": [
        "print('middle value in data:', data[29, 19])"
      ],
      "metadata": {
        "colab": {
          "base_uri": "https://localhost:8080/"
        },
        "id": "tDBXi5uz6TNL",
        "outputId": "81d9deb0-3a0c-40c1-ceb1-a18d1ce07f91"
      },
      "execution_count": null,
      "outputs": [
        {
          "output_type": "stream",
          "name": "stdout",
          "text": [
            "middle value in data: 16.0\n"
          ]
        }
      ]
    },
    {
      "cell_type": "code",
      "source": [
        "print(data[0:4, 0:10])"
      ],
      "metadata": {
        "colab": {
          "base_uri": "https://localhost:8080/"
        },
        "id": "wLRYKvQX6WOc",
        "outputId": "a3ef73e5-892b-45eb-abb2-490f93aaafc4"
      },
      "execution_count": null,
      "outputs": [
        {
          "output_type": "stream",
          "name": "stdout",
          "text": [
            "[[0. 0. 1. 3. 1. 2. 4. 7. 8. 3.]\n",
            " [0. 1. 2. 1. 2. 1. 3. 2. 2. 6.]\n",
            " [0. 1. 1. 3. 3. 2. 6. 2. 5. 9.]\n",
            " [0. 0. 2. 0. 4. 2. 2. 1. 6. 7.]]\n"
          ]
        }
      ]
    },
    {
      "cell_type": "code",
      "source": [
        "print(data[5:10, 0:10])"
      ],
      "metadata": {
        "colab": {
          "base_uri": "https://localhost:8080/"
        },
        "id": "wc5JIID-6jQo",
        "outputId": "74315bcc-afe8-4d95-daef-8daa0d8d60b9"
      },
      "execution_count": null,
      "outputs": [
        {
          "output_type": "stream",
          "name": "stdout",
          "text": [
            "[[0. 0. 1. 2. 2. 4. 2. 1. 6. 4.]\n",
            " [0. 0. 2. 2. 4. 2. 2. 5. 5. 8.]\n",
            " [0. 0. 1. 2. 3. 1. 2. 3. 5. 3.]\n",
            " [0. 0. 0. 3. 1. 5. 6. 5. 5. 8.]\n",
            " [0. 1. 1. 2. 1. 3. 5. 3. 5. 8.]]\n"
          ]
        }
      ]
    },
    {
      "cell_type": "code",
      "source": [
        "small = data[:3, 36:]\n",
        "print('small is:')\n",
        "print(small)"
      ],
      "metadata": {
        "colab": {
          "base_uri": "https://localhost:8080/"
        },
        "id": "KTIMD8bw6kUk",
        "outputId": "e96f476e-e6ba-4787-e9c3-397d6956e43a"
      },
      "execution_count": null,
      "outputs": [
        {
          "output_type": "stream",
          "name": "stdout",
          "text": [
            "small is:\n",
            "[[2. 3. 0. 0.]\n",
            " [1. 1. 0. 1.]\n",
            " [2. 2. 1. 1.]]\n"
          ]
        }
      ]
    },
    {
      "cell_type": "code",
      "source": [
        "print(numpy.mean(data))"
      ],
      "metadata": {
        "colab": {
          "base_uri": "https://localhost:8080/"
        },
        "id": "f-Ea5TyW6obB",
        "outputId": "e0a2dfb9-4a95-445f-93c5-9f00d1280236"
      },
      "execution_count": null,
      "outputs": [
        {
          "output_type": "stream",
          "name": "stdout",
          "text": [
            "6.14875\n"
          ]
        }
      ]
    },
    {
      "cell_type": "markdown",
      "source": [],
      "metadata": {
        "id": "jYwKD9L_1Rsc"
      }
    },
    {
      "cell_type": "code",
      "source": [
        "import time\n",
        "print(time.ctime())"
      ],
      "metadata": {
        "colab": {
          "base_uri": "https://localhost:8080/"
        },
        "id": "ypYT6qk87hyW",
        "outputId": "265cc922-ea8a-44bd-8aeb-f0d219b7c6b5"
      },
      "execution_count": null,
      "outputs": [
        {
          "output_type": "stream",
          "name": "stdout",
          "text": [
            "Mon May 20 16:55:48 2024\n"
          ]
        }
      ]
    },
    {
      "cell_type": "code",
      "source": [
        "maxval, minval, stdval = numpy.amax(data), numpy.amin(data), numpy.std(data)\n",
        "\n",
        "print('maximum inflammation:', maxval)\n",
        "print('minimum inflammation:', minval)\n",
        "print('standard deviation:', stdval)"
      ],
      "metadata": {
        "colab": {
          "base_uri": "https://localhost:8080/"
        },
        "id": "2rYFuAUn7lFC",
        "outputId": "fc71593b-311a-4142-a5e1-7f1b75b57844"
      },
      "execution_count": null,
      "outputs": [
        {
          "output_type": "stream",
          "name": "stdout",
          "text": [
            "maximum inflammation: 20.0\n",
            "minimum inflammation: 0.0\n",
            "standard deviation: 4.613833197118566\n"
          ]
        }
      ]
    },
    {
      "cell_type": "markdown",
      "source": [
        "Tab completion works without hitting tab in colab (type numpy. and then hover and wait) Getting help with ? also works."
      ],
      "metadata": {
        "id": "9lvaHb6C8h2S"
      }
    },
    {
      "cell_type": "code",
      "source": [
        "numpy."
      ],
      "metadata": {
        "id": "4i3YjelR7soU"
      },
      "execution_count": null,
      "outputs": []
    },
    {
      "cell_type": "code",
      "source": [
        "numpy.cumprod?"
      ],
      "metadata": {
        "id": "DXns3G197syy"
      },
      "execution_count": null,
      "outputs": []
    },
    {
      "cell_type": "code",
      "source": [
        "help(numpy.cumprod)"
      ],
      "metadata": {
        "colab": {
          "base_uri": "https://localhost:8080/"
        },
        "id": "JmT1hnzAUfrE",
        "outputId": "8da2ce32-b7c4-4a42-f522-683ca0ca6951"
      },
      "execution_count": 5,
      "outputs": [
        {
          "output_type": "stream",
          "name": "stdout",
          "text": [
            "Help on _ArrayFunctionDispatcher in module numpy:\n",
            "\n",
            "cumprod(a, axis=None, dtype=None, out=None)\n",
            "    Return the cumulative product of elements along a given axis.\n",
            "    \n",
            "    Parameters\n",
            "    ----------\n",
            "    a : array_like\n",
            "        Input array.\n",
            "    axis : int, optional\n",
            "        Axis along which the cumulative product is computed.  By default\n",
            "        the input is flattened.\n",
            "    dtype : dtype, optional\n",
            "        Type of the returned array, as well as of the accumulator in which\n",
            "        the elements are multiplied.  If *dtype* is not specified, it\n",
            "        defaults to the dtype of `a`, unless `a` has an integer dtype with\n",
            "        a precision less than that of the default platform integer.  In\n",
            "        that case, the default platform integer is used instead.\n",
            "    out : ndarray, optional\n",
            "        Alternative output array in which to place the result. It must\n",
            "        have the same shape and buffer length as the expected output\n",
            "        but the type of the resulting values will be cast if necessary.\n",
            "    \n",
            "    Returns\n",
            "    -------\n",
            "    cumprod : ndarray\n",
            "        A new array holding the result is returned unless `out` is\n",
            "        specified, in which case a reference to out is returned.\n",
            "    \n",
            "    See Also\n",
            "    --------\n",
            "    :ref:`ufuncs-output-type`\n",
            "    \n",
            "    Notes\n",
            "    -----\n",
            "    Arithmetic is modular when using integer types, and no error is\n",
            "    raised on overflow.\n",
            "    \n",
            "    Examples\n",
            "    --------\n",
            "    >>> a = np.array([1,2,3])\n",
            "    >>> np.cumprod(a) # intermediate results 1, 1*2\n",
            "    ...               # total product 1*2*3 = 6\n",
            "    array([1, 2, 6])\n",
            "    >>> a = np.array([[1, 2, 3], [4, 5, 6]])\n",
            "    >>> np.cumprod(a, dtype=float) # specify type of output\n",
            "    array([   1.,    2.,    6.,   24.,  120.,  720.])\n",
            "    \n",
            "    The cumulative product for each column (i.e., over the rows) of `a`:\n",
            "    \n",
            "    >>> np.cumprod(a, axis=0)\n",
            "    array([[ 1,  2,  3],\n",
            "           [ 4, 10, 18]])\n",
            "    \n",
            "    The cumulative product for each row (i.e. over the columns) of `a`:\n",
            "    \n",
            "    >>> np.cumprod(a,axis=1)\n",
            "    array([[  1,   2,   6],\n",
            "           [  4,  20, 120]])\n",
            "\n"
          ]
        }
      ]
    },
    {
      "cell_type": "code",
      "source": [
        "patient_0 = data[0, :] # 0 on the first axis (rows), everything on the second (columns)\n",
        "print('maximum inflammation for patient 0:', numpy.amax(patient_0))"
      ],
      "metadata": {
        "colab": {
          "base_uri": "https://localhost:8080/"
        },
        "id": "zQUmv1dl9Mfu",
        "outputId": "eda4b8c2-f155-4cee-d2f0-3f1872c0b7af"
      },
      "execution_count": null,
      "outputs": [
        {
          "output_type": "stream",
          "name": "stdout",
          "text": [
            "maximum inflammation for patient 0: 18.0\n"
          ]
        }
      ]
    },
    {
      "cell_type": "code",
      "source": [
        "print('maximum inflammation for patient 2:', numpy.amax(data[2, :]))"
      ],
      "metadata": {
        "colab": {
          "base_uri": "https://localhost:8080/"
        },
        "id": "dwq7YT699Rfe",
        "outputId": "f4eb6b87-4f0d-4954-9dae-45d592f9d4d1"
      },
      "execution_count": null,
      "outputs": [
        {
          "output_type": "stream",
          "name": "stdout",
          "text": [
            "maximum inflammation for patient 2: 19.0\n"
          ]
        }
      ]
    },
    {
      "cell_type": "code",
      "source": [
        "print(numpy.mean(data, axis=0))"
      ],
      "metadata": {
        "colab": {
          "base_uri": "https://localhost:8080/"
        },
        "id": "5Y0aWSD69ZWF",
        "outputId": "033b5e2f-325d-4378-b3e7-88bef02bed8b"
      },
      "execution_count": null,
      "outputs": [
        {
          "output_type": "stream",
          "name": "stdout",
          "text": [
            "[ 0.          0.45        1.11666667  1.75        2.43333333  3.15\n",
            "  3.8         3.88333333  5.23333333  5.51666667  5.95        5.9\n",
            "  8.35        7.73333333  8.36666667  9.5         9.58333333 10.63333333\n",
            " 11.56666667 12.35       13.25       11.96666667 11.03333333 10.16666667\n",
            " 10.          8.66666667  9.15        7.25        7.33333333  6.58333333\n",
            "  6.06666667  5.95        5.11666667  3.6         3.3         3.56666667\n",
            "  2.48333333  1.5         1.13333333  0.56666667]\n"
          ]
        }
      ]
    },
    {
      "cell_type": "code",
      "source": [
        "print(numpy.mean(data, axis=0).shape)"
      ],
      "metadata": {
        "colab": {
          "base_uri": "https://localhost:8080/"
        },
        "id": "0oCUegwk9bod",
        "outputId": "2119e4db-b273-403c-c036-763bf075c2bb"
      },
      "execution_count": null,
      "outputs": [
        {
          "output_type": "stream",
          "name": "stdout",
          "text": [
            "(40,)\n"
          ]
        }
      ]
    },
    {
      "cell_type": "code",
      "source": [
        "print(numpy.mean(data, axis=1))"
      ],
      "metadata": {
        "colab": {
          "base_uri": "https://localhost:8080/"
        },
        "id": "PPpJVByn9kT7",
        "outputId": "adbce970-96af-4ada-96a7-1a334746780f"
      },
      "execution_count": null,
      "outputs": [
        {
          "output_type": "stream",
          "name": "stdout",
          "text": [
            "[5.45  5.425 6.1   5.9   5.55  6.225 5.975 6.65  6.625 6.525 6.775 5.8\n",
            " 6.225 5.75  5.225 6.3   6.55  5.7   5.85  6.55  5.775 5.825 6.175 6.1\n",
            " 5.8   6.425 6.05  6.025 6.175 6.55  6.175 6.35  6.725 6.125 7.075 5.725\n",
            " 5.925 6.15  6.075 5.75  5.975 5.725 6.3   5.9   6.75  5.925 7.225 6.15\n",
            " 5.95  6.275 5.7   6.1   6.825 5.975 6.725 5.7   6.25  6.4   7.05  5.9  ]\n"
          ]
        }
      ]
    },
    {
      "cell_type": "code",
      "source": [
        "element = 'oxygen'\n",
        "print('first three characters:', element[0:3])\n",
        "print('last three characters:', element[3:6])"
      ],
      "metadata": {
        "colab": {
          "base_uri": "https://localhost:8080/"
        },
        "id": "jkqSs6Vf9nSS",
        "outputId": "77f0e611-f809-4921-d6c2-5934a1d6d828"
      },
      "execution_count": 7,
      "outputs": [
        {
          "output_type": "stream",
          "name": "stdout",
          "text": [
            "first three characters: oxy\n",
            "last three characters: gen\n"
          ]
        }
      ]
    },
    {
      "cell_type": "code",
      "source": [
        "print(element[-1])\n",
        "print(element[-2])"
      ],
      "metadata": {
        "colab": {
          "base_uri": "https://localhost:8080/"
        },
        "id": "I5YXGf-5H1EG",
        "outputId": "be749a11-f910-4697-bd13-26f578c4017c"
      },
      "execution_count": 8,
      "outputs": [
        {
          "output_type": "stream",
          "name": "stdout",
          "text": [
            "n\n",
            "e\n"
          ]
        }
      ]
    },
    {
      "cell_type": "code",
      "source": [
        "element[1:-1]"
      ],
      "metadata": {
        "colab": {
          "base_uri": "https://localhost:8080/",
          "height": 35
        },
        "id": "P3GeDnd5H745",
        "outputId": "4c94e93e-4989-4f90-bb3f-7cb2a3befb4f"
      },
      "execution_count": null,
      "outputs": [
        {
          "output_type": "execute_result",
          "data": {
            "text/plain": [
              "'xyge'"
            ],
            "application/vnd.google.colaboratory.intrinsic+json": {
              "type": "string"
            }
          },
          "metadata": {},
          "execution_count": 5
        }
      ]
    },
    {
      "cell_type": "code",
      "source": [
        "element = 'oxygen'\n",
        "print('last three characters:', element[-3:])\n",
        "element = 'carpentry'\n",
        "print('last three characters:', element[-3:])\n",
        "element = 'clone'\n",
        "print('last three characters:', element[-3:])\n",
        "element = 'hi'\n",
        "print('last three characters:', element[-3:])"
      ],
      "metadata": {
        "colab": {
          "base_uri": "https://localhost:8080/"
        },
        "id": "dUiCRFcXVbD6",
        "outputId": "d8e08a92-1310-4d62-8e79-57531ef86b07"
      },
      "execution_count": 9,
      "outputs": [
        {
          "output_type": "stream",
          "name": "stdout",
          "text": [
            "last three characters: gen\n",
            "last three characters: try\n",
            "last three characters: one\n",
            "last three characters: hi\n"
          ]
        }
      ]
    },
    {
      "cell_type": "code",
      "source": [
        "print(type(data[3:3, 4:4]), data[3:3, 4:4].shape, data[3:3, 4:4].dtype)\n",
        "print(type(data[3:3, :]), data[3:3, :].shape, data[3:3, :].dtype)"
      ],
      "metadata": {
        "colab": {
          "base_uri": "https://localhost:8080/"
        },
        "id": "VPH3PXEEVgss",
        "outputId": "473643fc-b336-46c5-a0db-13f6e18e785c"
      },
      "execution_count": 15,
      "outputs": [
        {
          "output_type": "stream",
          "name": "stdout",
          "text": [
            "<class 'numpy.ndarray'> (0, 0) float64\n",
            "<class 'numpy.ndarray'> (0, 40) float64\n"
          ]
        }
      ]
    },
    {
      "cell_type": "code",
      "source": [
        "patient3_week1 = data[3, :7]\n",
        "print(patient3_week1)"
      ],
      "metadata": {
        "colab": {
          "base_uri": "https://localhost:8080/"
        },
        "id": "8e-iZEawWXK7",
        "outputId": "0017efc6-c495-44e8-9cd5-4eb38940dd9d"
      },
      "execution_count": 16,
      "outputs": [
        {
          "output_type": "stream",
          "name": "stdout",
          "text": [
            "[0. 0. 2. 0. 4. 2. 2.]\n"
          ]
        }
      ]
    },
    {
      "cell_type": "code",
      "source": [
        "numpy.diff(patient3_week1)"
      ],
      "metadata": {
        "colab": {
          "base_uri": "https://localhost:8080/"
        },
        "id": "4SSw4JX6WbdE",
        "outputId": "d50be77b-5ff1-4d33-d8f3-15312ac535e9"
      },
      "execution_count": 17,
      "outputs": [
        {
          "output_type": "execute_result",
          "data": {
            "text/plain": [
              "array([ 0.,  2., -2.,  4., -2.,  0.])"
            ]
          },
          "metadata": {},
          "execution_count": 17
        }
      ]
    },
    {
      "cell_type": "code",
      "source": [
        "numpy.diff(data, axis=1)"
      ],
      "metadata": {
        "colab": {
          "base_uri": "https://localhost:8080/"
        },
        "id": "Kqx2L0y7Wdtx",
        "outputId": "ac117a0c-ad37-41f6-e6cd-4c5bef0b53d9"
      },
      "execution_count": 18,
      "outputs": [
        {
          "output_type": "execute_result",
          "data": {
            "text/plain": [
              "array([[ 0.,  1.,  2., ...,  1., -3.,  0.],\n",
              "       [ 1.,  1., -1., ...,  0., -1.,  1.],\n",
              "       [ 1.,  0.,  2., ...,  0., -1.,  0.],\n",
              "       ...,\n",
              "       [ 1.,  0.,  0., ..., -1.,  0.,  0.],\n",
              "       [ 0.,  0.,  1., ..., -2.,  2., -2.],\n",
              "       [ 0.,  1., -1., ..., -2.,  0., -1.]])"
            ]
          },
          "metadata": {},
          "execution_count": 18
        }
      ]
    },
    {
      "cell_type": "code",
      "source": [
        "numpy.diff(data, axis=1).shape"
      ],
      "metadata": {
        "colab": {
          "base_uri": "https://localhost:8080/"
        },
        "id": "JsSRdqxLWi4M",
        "outputId": "ab6bfe6c-b505-4ec2-fa31-40d57bc62905"
      },
      "execution_count": 19,
      "outputs": [
        {
          "output_type": "execute_result",
          "data": {
            "text/plain": [
              "(60, 39)"
            ]
          },
          "metadata": {},
          "execution_count": 19
        }
      ]
    },
    {
      "cell_type": "code",
      "source": [
        "numpy.amax(numpy.diff(data, axis=1), axis=1)"
      ],
      "metadata": {
        "colab": {
          "base_uri": "https://localhost:8080/"
        },
        "id": "YhNhZHmXWoGE",
        "outputId": "b34b4561-360c-48ab-b8b2-fe79984b32cc"
      },
      "execution_count": 20,
      "outputs": [
        {
          "output_type": "execute_result",
          "data": {
            "text/plain": [
              "array([ 7., 12., 11., 10., 11., 13., 10.,  8., 10., 10.,  7.,  7., 13.,\n",
              "        7., 10., 10.,  8., 10.,  9., 10., 13.,  7., 12.,  9., 12., 11.,\n",
              "       10., 10.,  7., 10., 11., 10.,  8., 11., 12., 10.,  9., 10., 13.,\n",
              "       10.,  7.,  7., 10., 13., 12.,  8.,  8., 10., 10.,  9.,  8., 13.,\n",
              "       10.,  7., 10.,  8., 12., 10.,  7., 12.])"
            ]
          },
          "metadata": {},
          "execution_count": 20
        }
      ]
    },
    {
      "cell_type": "code",
      "source": [
        "numpy.amax(numpy.absolute(numpy.diff(data, axis=1)), axis=1)"
      ],
      "metadata": {
        "colab": {
          "base_uri": "https://localhost:8080/"
        },
        "id": "mGlNXyX0WrWU",
        "outputId": "b245381a-aea5-4a30-9199-5d0c109220f1"
      },
      "execution_count": 21,
      "outputs": [
        {
          "output_type": "execute_result",
          "data": {
            "text/plain": [
              "array([12., 14., 11., 13., 11., 13., 10., 12., 10., 10., 10., 12., 13.,\n",
              "       10., 11., 10., 12., 13.,  9., 10., 13.,  9., 12.,  9., 12., 11.,\n",
              "       10., 13.,  9., 13., 11., 11.,  8., 11., 12., 13.,  9., 10., 13.,\n",
              "       11., 11., 13., 11., 13., 13., 10.,  9., 10., 10.,  9.,  9., 13.,\n",
              "       10.,  9., 10., 11., 13., 10., 10., 12.])"
            ]
          },
          "metadata": {},
          "execution_count": 21
        }
      ]
    }
  ]
}