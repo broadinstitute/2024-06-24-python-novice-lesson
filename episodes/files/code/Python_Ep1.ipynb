{
  "nbformat": 4,
  "nbformat_minor": 0,
  "metadata": {
    "colab": {
      "provenance": [],
      "include_colab_link": true
    },
    "kernelspec": {
      "name": "python3",
      "display_name": "Python 3"
    },
    "language_info": {
      "name": "python"
    }
  },
  "cells": [
    {
      "cell_type": "markdown",
      "metadata": {
        "id": "view-in-github",
        "colab_type": "text"
      },
      "source": [
        "<a href=\"https://colab.research.google.com/github/broadinstitute/2024-06-24-python-novice-lesson/blob/jlc_final_edits/episodes/files/code/Python_Ep1.ipynb\" target=\"_parent\"><img src=\"https://colab.research.google.com/assets/colab-badge.svg\" alt=\"Open In Colab\"/></a>"
      ]
    },
    {
      "cell_type": "markdown",
      "source": [
        "## Intro to Python Epsiode 1"
      ],
      "metadata": {
        "id": "D2seSvy90P_o"
      }
    },
    {
      "cell_type": "code",
      "execution_count": null,
      "metadata": {
        "colab": {
          "base_uri": "https://localhost:8080/"
        },
        "id": "uWXfZDqh2WeN",
        "outputId": "65e497f5-f8ea-4807-a87b-e78a35507e6a"
      },
      "outputs": [
        {
          "output_type": "execute_result",
          "data": {
            "text/plain": [
              "23"
            ]
          },
          "metadata": {},
          "execution_count": 5
        }
      ],
      "source": [
        "3 + 5 * 4"
      ]
    },
    {
      "cell_type": "code",
      "source": [
        "weight_kg = 60"
      ],
      "metadata": {
        "id": "qsADd2rj2hBV"
      },
      "execution_count": null,
      "outputs": []
    },
    {
      "cell_type": "code",
      "source": [
        "weight_kg = 60.3"
      ],
      "metadata": {
        "id": "DzzkfKMo2qIy"
      },
      "execution_count": null,
      "outputs": []
    },
    {
      "cell_type": "code",
      "source": [
        "weight_kg\n"
      ],
      "metadata": {
        "colab": {
          "base_uri": "https://localhost:8080/"
        },
        "id": "FlxVGRhP2rfC",
        "outputId": "f1d83da7-760c-4cd2-cbe6-83cc3851803e"
      },
      "execution_count": null,
      "outputs": [
        {
          "output_type": "execute_result",
          "data": {
            "text/plain": [
              "60.3"
            ]
          },
          "metadata": {},
          "execution_count": 5
        }
      ]
    },
    {
      "cell_type": "code",
      "source": [
        "patient_id = '001'"
      ],
      "metadata": {
        "id": "EFIhv3Bn2tsB"
      },
      "execution_count": null,
      "outputs": []
    },
    {
      "cell_type": "code",
      "source": [
        "patient_id"
      ],
      "metadata": {
        "colab": {
          "base_uri": "https://localhost:8080/",
          "height": 35
        },
        "id": "f3Q93J222wdI",
        "outputId": "9fe596b1-89d8-41b3-9fba-8690b73c1f2a"
      },
      "execution_count": null,
      "outputs": [
        {
          "output_type": "execute_result",
          "data": {
            "text/plain": [
              "'001'"
            ],
            "application/vnd.google.colaboratory.intrinsic+json": {
              "type": "string"
            }
          },
          "metadata": {},
          "execution_count": 7
        }
      ]
    },
    {
      "cell_type": "code",
      "source": [
        "weight_lb = 2.2 * weight_kg"
      ],
      "metadata": {
        "id": "sNSNx64R20dn"
      },
      "execution_count": null,
      "outputs": []
    },
    {
      "cell_type": "code",
      "source": [
        "weight_lb"
      ],
      "metadata": {
        "colab": {
          "base_uri": "https://localhost:8080/"
        },
        "id": "jazuTaRD219I",
        "outputId": "e53fc873-e505-4959-81bd-e2d52a3b2c0a"
      },
      "execution_count": null,
      "outputs": [
        {
          "output_type": "execute_result",
          "data": {
            "text/plain": [
              "132.66"
            ]
          },
          "metadata": {},
          "execution_count": 9
        }
      ]
    },
    {
      "cell_type": "code",
      "source": [
        "'inflam_' + patient_id"
      ],
      "metadata": {
        "colab": {
          "base_uri": "https://localhost:8080/",
          "height": 35
        },
        "id": "jY0jrO_l25na",
        "outputId": "f0d07eba-7c21-442a-fa84-c4012f5ca31d"
      },
      "execution_count": null,
      "outputs": [
        {
          "output_type": "execute_result",
          "data": {
            "text/plain": [
              "'inflam_001'"
            ],
            "application/vnd.google.colaboratory.intrinsic+json": {
              "type": "string"
            }
          },
          "metadata": {},
          "execution_count": 10
        }
      ]
    },
    {
      "cell_type": "code",
      "source": [
        "patient_id = 'inflam_' + patient_id"
      ],
      "metadata": {
        "id": "Vz7JFf7Y26kx"
      },
      "execution_count": null,
      "outputs": []
    },
    {
      "cell_type": "code",
      "source": [
        "print(weight_lb)\n",
        "print(patient_id)"
      ],
      "metadata": {
        "colab": {
          "base_uri": "https://localhost:8080/"
        },
        "id": "Adh1yEKk2-9Y",
        "outputId": "6b3a89e2-b926-4f7a-fb85-18b93a5f0666"
      },
      "execution_count": null,
      "outputs": [
        {
          "output_type": "stream",
          "name": "stdout",
          "text": [
            "132.66\n",
            "inflam_001\n"
          ]
        }
      ]
    },
    {
      "cell_type": "code",
      "source": [
        "print(patient_id, 'weight in kilograms:', weight_kg)"
      ],
      "metadata": {
        "colab": {
          "base_uri": "https://localhost:8080/"
        },
        "id": "rhIOvR-b3Bj6",
        "outputId": "10bd464b-aaad-4648-cdc0-fc6e485fe21b"
      },
      "execution_count": null,
      "outputs": [
        {
          "output_type": "stream",
          "name": "stdout",
          "text": [
            "inflam_001 weight in kilograms: 60.3\n"
          ]
        }
      ]
    },
    {
      "cell_type": "code",
      "source": [
        "print(type(60.3))\n",
        "print(type(patient_id))"
      ],
      "metadata": {
        "colab": {
          "base_uri": "https://localhost:8080/"
        },
        "id": "fI2Rryvv3C-N",
        "outputId": "564192f7-01c2-41a5-9278-4cf2decd583d"
      },
      "execution_count": null,
      "outputs": [
        {
          "output_type": "stream",
          "name": "stdout",
          "text": [
            "<class 'float'>\n",
            "<class 'str'>\n"
          ]
        }
      ]
    },
    {
      "cell_type": "code",
      "source": [
        "print('weight in pounds:', 2.2 * weight_kg)"
      ],
      "metadata": {
        "colab": {
          "base_uri": "https://localhost:8080/"
        },
        "id": "xJBUnQJY3HWZ",
        "outputId": "7032bd5f-9315-451f-db57-c7b7a522a7f8"
      },
      "execution_count": null,
      "outputs": [
        {
          "output_type": "stream",
          "name": "stdout",
          "text": [
            "weight in pounds: 132.66\n"
          ]
        }
      ]
    },
    {
      "cell_type": "code",
      "source": [
        "print(weight_kg)"
      ],
      "metadata": {
        "colab": {
          "base_uri": "https://localhost:8080/"
        },
        "id": "15WHiRnt3KOT",
        "outputId": "159b9b3f-6eac-404c-891f-7f1d17f11b83"
      },
      "execution_count": null,
      "outputs": [
        {
          "output_type": "stream",
          "name": "stdout",
          "text": [
            "60.3\n"
          ]
        }
      ]
    },
    {
      "cell_type": "code",
      "source": [
        "weight_kg = 65.0\n",
        "print('weight in kilograms is now:', weight_kg)"
      ],
      "metadata": {
        "colab": {
          "base_uri": "https://localhost:8080/"
        },
        "id": "9uBLEKb13MdA",
        "outputId": "1b7b222c-9352-4f61-d607-e0d37b456a0d"
      },
      "execution_count": null,
      "outputs": [
        {
          "output_type": "stream",
          "name": "stdout",
          "text": [
            "weight in kilograms is now: 65.0\n"
          ]
        }
      ]
    },
    {
      "cell_type": "code",
      "source": [
        "# There are 2.2 pounds per kilogram\n",
        "weight_lb = 2.2 * weight_kg\n",
        "print('weight in kilograms:', weight_kg, 'and in pounds:', weight_lb)"
      ],
      "metadata": {
        "colab": {
          "base_uri": "https://localhost:8080/"
        },
        "id": "IQjtRbU5zMv1",
        "outputId": "404a5769-89b0-4260-9060-659cf32d01ac"
      },
      "execution_count": null,
      "outputs": [
        {
          "output_type": "stream",
          "name": "stdout",
          "text": [
            "weight in kilograms: 65.0 and in pounds: 143.0\n"
          ]
        }
      ]
    },
    {
      "cell_type": "code",
      "source": [
        "weight_kg = 100.0\n",
        "print('weight in kilograms is now:', weight_kg, 'and weight in pounds is still:', weight_lb)"
      ],
      "metadata": {
        "colab": {
          "base_uri": "https://localhost:8080/"
        },
        "id": "4HEBtLLezkHa",
        "outputId": "784d4733-3d79-4787-ea68-f928d7fa66e4"
      },
      "execution_count": null,
      "outputs": [
        {
          "output_type": "stream",
          "name": "stdout",
          "text": [
            "weight in kilograms is now: 100.0 and weight in pounds is still: 143.0\n"
          ]
        }
      ]
    },
    {
      "cell_type": "code",
      "source": [
        "mass = 47.5\n",
        "age = 122\n",
        "mass = mass * 2.0\n",
        "mass\n",
        "age = age - 20\n",
        "age"
      ],
      "metadata": {
        "colab": {
          "base_uri": "https://localhost:8080/"
        },
        "id": "Uuge8noszZL2",
        "outputId": "65c1aa84-3ede-43b0-cc42-1de67d6e5b07"
      },
      "execution_count": null,
      "outputs": [
        {
          "output_type": "execute_result",
          "data": {
            "text/plain": [
              "102"
            ]
          },
          "metadata": {},
          "execution_count": 6
        }
      ]
    },
    {
      "cell_type": "code",
      "source": [],
      "metadata": {
        "colab": {
          "base_uri": "https://localhost:8080/"
        },
        "id": "aAwLvePezfNU",
        "outputId": "1a66c661-970c-435e-a91f-2bb633419261"
      },
      "execution_count": null,
      "outputs": [
        {
          "output_type": "execute_result",
          "data": {
            "text/plain": [
              "62"
            ]
          },
          "metadata": {},
          "execution_count": 5
        }
      ]
    },
    {
      "cell_type": "code",
      "source": [
        "first, second = 'Grace', 'Hopper'\n",
        "third, fourth = second, first\n",
        "print(third, fourth)"
      ],
      "metadata": {
        "colab": {
          "base_uri": "https://localhost:8080/"
        },
        "id": "AnWqmZYlz1p1",
        "outputId": "5bac730b-a156-4982-89bd-e1626f2423df"
      },
      "execution_count": null,
      "outputs": [
        {
          "output_type": "stream",
          "name": "stdout",
          "text": [
            "Hopper Grace\n"
          ]
        }
      ]
    },
    {
      "cell_type": "code",
      "source": [
        "planet = 'Earth'\n",
        "apples = 5\n",
        "distance = 10.5"
      ],
      "metadata": {
        "id": "PVBx7cT4z6Qd"
      },
      "execution_count": null,
      "outputs": []
    },
    {
      "cell_type": "code",
      "source": [
        "print(type(planet))\n",
        "print(type(apples))\n",
        "print(type(distance))"
      ],
      "metadata": {
        "colab": {
          "base_uri": "https://localhost:8080/"
        },
        "id": "x0l0k5M9z8bZ",
        "outputId": "27bda43e-84bf-4bc2-a8ed-6762374fe493"
      },
      "execution_count": null,
      "outputs": [
        {
          "output_type": "stream",
          "name": "stdout",
          "text": [
            "<class 'str'>\n",
            "<class 'int'>\n",
            "<class 'float'>\n"
          ]
        }
      ]
    }
  ]
}