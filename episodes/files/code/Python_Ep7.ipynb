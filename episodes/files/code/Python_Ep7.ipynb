{
  "nbformat": 4,
  "nbformat_minor": 0,
  "metadata": {
    "colab": {
      "provenance": [],
      "authorship_tag": "ABX9TyOkeoRZQy+aVqBaEy0kwmc3",
      "include_colab_link": true
    },
    "kernelspec": {
      "name": "python3",
      "display_name": "Python 3"
    },
    "language_info": {
      "name": "python"
    }
  },
  "cells": [
    {
      "cell_type": "markdown",
      "metadata": {
        "id": "view-in-github",
        "colab_type": "text"
      },
      "source": [
        "<a href=\"https://colab.research.google.com/github/broadinstitute/2024-06-24-python-novice-lesson/blob/jlc_final_edits/episodes/files/code/Python_Ep7.ipynb\" target=\"_parent\"><img src=\"https://colab.research.google.com/assets/colab-badge.svg\" alt=\"Open In Colab\"/></a>"
      ]
    },
    {
      "cell_type": "markdown",
      "source": [
        "## Intro to Python Epsiode 7"
      ],
      "metadata": {
        "id": "VvFJHrYqPIf4"
      }
    },
    {
      "cell_type": "code",
      "execution_count": 1,
      "metadata": {
        "colab": {
          "base_uri": "https://localhost:8080/"
        },
        "id": "iNwhsPXmN3WX",
        "outputId": "5da98fb3-9821-4df3-b591-9a881b76285c"
      },
      "outputs": [
        {
          "output_type": "stream",
          "name": "stdout",
          "text": [
            "not greater\n",
            "done\n"
          ]
        }
      ],
      "source": [
        "num = 37\n",
        "if num > 100:\n",
        "    print('greater')\n",
        "else:\n",
        "    print('not greater')\n",
        "print('done')"
      ]
    },
    {
      "cell_type": "code",
      "source": [
        "num = 53\n",
        "print('before conditional...')\n",
        "if num > 100:\n",
        "    print(num, 'is greater than 100')\n",
        "print('...after conditional')"
      ],
      "metadata": {
        "colab": {
          "base_uri": "https://localhost:8080/"
        },
        "id": "-EHl3gfFIm3Z",
        "outputId": "5c7dce76-bf8c-4755-b7c7-2a78f4f2f950"
      },
      "execution_count": 2,
      "outputs": [
        {
          "output_type": "stream",
          "name": "stdout",
          "text": [
            "before conditional...\n",
            "...after conditional\n"
          ]
        }
      ]
    },
    {
      "cell_type": "code",
      "source": [
        "num = -3\n",
        "\n",
        "if num > 0:\n",
        "    print(num, 'is positive')\n",
        "elif num == 0:\n",
        "    print(num, 'is zero')\n",
        "else:\n",
        "    print(num, 'is negative')"
      ],
      "metadata": {
        "colab": {
          "base_uri": "https://localhost:8080/"
        },
        "id": "EKljWyS8Ipn-",
        "outputId": "ae404a68-361d-4a86-d792-4b0e791dba33"
      },
      "execution_count": 3,
      "outputs": [
        {
          "output_type": "stream",
          "name": "stdout",
          "text": [
            "-3 is negative\n"
          ]
        }
      ]
    },
    {
      "cell_type": "code",
      "source": [
        "if (1 > 0) and (-1 >= 0):\n",
        "    print('both parts are true')\n",
        "else:\n",
        "    print('at least one part is false')"
      ],
      "metadata": {
        "colab": {
          "base_uri": "https://localhost:8080/"
        },
        "id": "LR9xpxL5IuKT",
        "outputId": "d35066b6-6818-430d-b89b-9586a8a90ab6"
      },
      "execution_count": 4,
      "outputs": [
        {
          "output_type": "stream",
          "name": "stdout",
          "text": [
            "at least one part is false\n"
          ]
        }
      ]
    },
    {
      "cell_type": "code",
      "source": [
        "if (1 < 0) or (1 >= 0):\n",
        "    print('at least one test is true')"
      ],
      "metadata": {
        "colab": {
          "base_uri": "https://localhost:8080/"
        },
        "id": "W3x-MRd_IwP4",
        "outputId": "faf5faa4-85b9-4b23-ee42-5a1c9656b28a"
      },
      "execution_count": 5,
      "outputs": [
        {
          "output_type": "stream",
          "name": "stdout",
          "text": [
            "at least one test is true\n"
          ]
        }
      ]
    },
    {
      "cell_type": "code",
      "source": [
        "from google.colab import drive\n",
        "drive.mount('/content/drive')\n",
        "file_path = '/content/drive/MyDrive/swc-python/data/'\n",
        "\n",
        "import numpy\n",
        "data = numpy.loadtxt(fname=file_path+'inflammation-01.csv', delimiter=',')"
      ],
      "metadata": {
        "colab": {
          "base_uri": "https://localhost:8080/"
        },
        "id": "-IseIyvIIypJ",
        "outputId": "095f9648-6a48-4079-df67-adfcccf7ea57"
      },
      "execution_count": 6,
      "outputs": [
        {
          "output_type": "stream",
          "name": "stdout",
          "text": [
            "Mounted at /content/drive\n"
          ]
        }
      ]
    },
    {
      "cell_type": "code",
      "source": [
        "max_inflammation_0 = numpy.amax(data, axis=0)[0]\n",
        "max_inflammation_20 = numpy.amax(data, axis=0)[20]\n",
        "\n",
        "if max_inflammation_0 == 0 and max_inflammation_20 == 20:\n",
        "    print('Suspicious looking maxima!')"
      ],
      "metadata": {
        "colab": {
          "base_uri": "https://localhost:8080/"
        },
        "id": "Yiong1eyJGfj",
        "outputId": "537b2c1f-52f6-4bc2-a3ef-14c97f11ed49"
      },
      "execution_count": 7,
      "outputs": [
        {
          "output_type": "stream",
          "name": "stdout",
          "text": [
            "Suspicious looking maxima!\n"
          ]
        }
      ]
    },
    {
      "cell_type": "code",
      "source": [
        "if max_inflammation_0 == 0 and max_inflammation_20 == 20:\n",
        "    print('Suspicious looking maxima!')\n",
        "elif numpy.sum(numpy.amin(data, axis=0)) == 0:\n",
        "    print('Minima add up to zero!')"
      ],
      "metadata": {
        "colab": {
          "base_uri": "https://localhost:8080/"
        },
        "id": "JltKIE1PJI0j",
        "outputId": "587dce37-8f48-4428-d3c0-16201eda7f82"
      },
      "execution_count": 11,
      "outputs": [
        {
          "output_type": "stream",
          "name": "stdout",
          "text": [
            "Suspicious looking maxima!\n"
          ]
        }
      ]
    },
    {
      "cell_type": "code",
      "source": [
        "if max_inflammation_0 == 0 and max_inflammation_20 == 20:\n",
        "    print('Suspicious looking maxima!')\n",
        "elif numpy.sum(numpy.amin(data, axis=0)) == 0:\n",
        "    print('Minima add up to zero!')\n",
        "else:\n",
        "    print('Seems OK!')"
      ],
      "metadata": {
        "colab": {
          "base_uri": "https://localhost:8080/"
        },
        "id": "DyZO0Mo5JLGD",
        "outputId": "887de240-58a1-4d2f-e41b-1ecad7596030"
      },
      "execution_count": 12,
      "outputs": [
        {
          "output_type": "stream",
          "name": "stdout",
          "text": [
            "Suspicious looking maxima!\n"
          ]
        }
      ]
    },
    {
      "cell_type": "code",
      "source": [
        "data = numpy.loadtxt(fname=file_path+'inflammation-01.csv', delimiter=',')\n",
        "\n",
        "max_inflammation_0 = numpy.amax(data, axis=0)[0]\n",
        "max_inflammation_20 = numpy.amax(data, axis=0)[20]\n",
        "\n",
        "if max_inflammation_0 == 0 and max_inflammation_20 == 20:\n",
        "    print('Suspicious looking maxima!')\n",
        "elif numpy.sum(numpy.amin(data, axis=0)) == 0:\n",
        "    print('Minima add up to zero!')\n",
        "else:\n",
        "    print('Seems OK!')"
      ],
      "metadata": {
        "colab": {
          "base_uri": "https://localhost:8080/"
        },
        "id": "tOi5biusJdRX",
        "outputId": "239c6757-3174-45c4-f9bc-867aad37158a"
      },
      "execution_count": 13,
      "outputs": [
        {
          "output_type": "stream",
          "name": "stdout",
          "text": [
            "Suspicious looking maxima!\n"
          ]
        }
      ]
    },
    {
      "cell_type": "code",
      "source": [
        "data = numpy.loadtxt(fname=file_path+'inflammation-03.csv', delimiter=',')\n",
        "\n",
        "max_inflammation_0 = numpy.amax(data, axis=0)[0]\n",
        "max_inflammation_20 = numpy.amax(data, axis=0)[20]\n",
        "\n",
        "if max_inflammation_0 == 0 and max_inflammation_20 == 20:\n",
        "    print('Suspicious looking maxima!')\n",
        "elif numpy.sum(numpy.amin(data, axis=0)) == 0:\n",
        "    print('Minima add up to zero!')\n",
        "else:\n",
        "    print('Seems OK!')"
      ],
      "metadata": {
        "colab": {
          "base_uri": "https://localhost:8080/"
        },
        "id": "DDcxZEujJyuw",
        "outputId": "d1779ee4-faf8-450c-8244-50c643a09f10"
      },
      "execution_count": 14,
      "outputs": [
        {
          "output_type": "stream",
          "name": "stdout",
          "text": [
            "Minima add up to zero!\n"
          ]
        }
      ]
    },
    {
      "cell_type": "code",
      "source": [
        "if 4 > 5:\n",
        "    print('A')\n",
        "elif 4 == 5:\n",
        "    print('B')\n",
        "elif 4 < 5:\n",
        "    print('C')"
      ],
      "metadata": {
        "colab": {
          "base_uri": "https://localhost:8080/"
        },
        "id": "8rpjr9Y2J3o_",
        "outputId": "cdb22a3c-10da-4153-ac79-b0788d4ce54a"
      },
      "execution_count": 15,
      "outputs": [
        {
          "output_type": "stream",
          "name": "stdout",
          "text": [
            "C\n"
          ]
        }
      ]
    },
    {
      "cell_type": "code",
      "source": [
        "if '':\n",
        "    print('empty string is true')\n",
        "if 'word':\n",
        "    print('word is true')\n",
        "if []:\n",
        "    print('empty list is true')\n",
        "if [1, 2, 3]:\n",
        "    print('non-empty list is true')\n",
        "if 0:\n",
        "    print('zero is true')\n",
        "if 1:\n",
        "    print('one is true')"
      ],
      "metadata": {
        "colab": {
          "base_uri": "https://localhost:8080/"
        },
        "id": "mZo-uvTjJ6U5",
        "outputId": "837df3b5-6706-4cfe-a72a-3fcd738d4d1c"
      },
      "execution_count": 16,
      "outputs": [
        {
          "output_type": "stream",
          "name": "stdout",
          "text": [
            "word is true\n",
            "non-empty list is true\n",
            "one is true\n"
          ]
        }
      ]
    },
    {
      "cell_type": "code",
      "source": [
        "if not '':\n",
        "    print('empty string is not true')\n",
        "if not 'word':\n",
        "    print('word is not true')\n",
        "if not not True:\n",
        "    print('not not True is true')"
      ],
      "metadata": {
        "colab": {
          "base_uri": "https://localhost:8080/"
        },
        "id": "jku2VLdYJ-C8",
        "outputId": "f89f282a-bb54-433a-f929-d9d90cd4e50d"
      },
      "execution_count": 17,
      "outputs": [
        {
          "output_type": "stream",
          "name": "stdout",
          "text": [
            "empty string is not true\n",
            "not not True is true\n"
          ]
        }
      ]
    },
    {
      "cell_type": "code",
      "source": [
        "print(abs(-12))"
      ],
      "metadata": {
        "colab": {
          "base_uri": "https://localhost:8080/"
        },
        "id": "6V-asXeiKAqz",
        "outputId": "c0c83c16-9a5d-4a28-9eec-8d3bc0f19cf2"
      },
      "execution_count": 18,
      "outputs": [
        {
          "output_type": "stream",
          "name": "stdout",
          "text": [
            "12\n"
          ]
        }
      ]
    },
    {
      "cell_type": "code",
      "source": [
        "a = 5\n",
        "b = 5.1\n",
        "\n",
        "if abs(a - b) <= 0.1 * abs(b):\n",
        "    print('True')\n",
        "else:\n",
        "    print('False')"
      ],
      "metadata": {
        "colab": {
          "base_uri": "https://localhost:8080/"
        },
        "id": "M7l2mNenpltx",
        "outputId": "981f2b16-53f2-4dc1-e7b9-e98bcc61fa04"
      },
      "execution_count": 1,
      "outputs": [
        {
          "output_type": "stream",
          "name": "stdout",
          "text": [
            "True\n"
          ]
        }
      ]
    },
    {
      "cell_type": "code",
      "source": [
        "print(abs(a - b) <= 0.1 * abs(b))"
      ],
      "metadata": {
        "colab": {
          "base_uri": "https://localhost:8080/"
        },
        "id": "saUPj0NappX5",
        "outputId": "e26bad58-2532-473c-ef81-447148746cd5"
      },
      "execution_count": 2,
      "outputs": [
        {
          "output_type": "stream",
          "name": "stdout",
          "text": [
            "True\n"
          ]
        }
      ]
    },
    {
      "cell_type": "code",
      "source": [
        "a = 5\n",
        "b = 5.1\n",
        "\n",
        "if abs(a - b) <= 0.1 * abs(b):\n",
        "    print('True')\n",
        "else:\n",
        "    print('False')"
      ],
      "metadata": {
        "colab": {
          "base_uri": "https://localhost:8080/"
        },
        "id": "7wmEidCvKDqg",
        "outputId": "2cd19829-e1e2-48c6-aa37-7f5e1b87da72"
      },
      "execution_count": 19,
      "outputs": [
        {
          "output_type": "stream",
          "name": "stdout",
          "text": [
            "True\n"
          ]
        }
      ]
    },
    {
      "cell_type": "code",
      "source": [
        "print(abs(a - b) <= 0.1 * abs(b))"
      ],
      "metadata": {
        "colab": {
          "base_uri": "https://localhost:8080/"
        },
        "id": "yRAgZZ8_KGmA",
        "outputId": "9c2925e5-bd46-4016-998a-6af85182c215"
      },
      "execution_count": 20,
      "outputs": [
        {
          "output_type": "stream",
          "name": "stdout",
          "text": [
            "True\n"
          ]
        }
      ]
    },
    {
      "cell_type": "code",
      "source": [
        "'String'.startswith('Str')"
      ],
      "metadata": {
        "colab": {
          "base_uri": "https://localhost:8080/"
        },
        "id": "v7r8R8klKIxs",
        "outputId": "cb8b92be-2135-43e8-bf88-9bc64ce59498"
      },
      "execution_count": 21,
      "outputs": [
        {
          "output_type": "execute_result",
          "data": {
            "text/plain": [
              "True"
            ]
          },
          "metadata": {},
          "execution_count": 21
        }
      ]
    },
    {
      "cell_type": "code",
      "source": [
        "'String'.startswith('str')"
      ],
      "metadata": {
        "colab": {
          "base_uri": "https://localhost:8080/"
        },
        "id": "d0Zgz48TKM4r",
        "outputId": "87047d95-65a5-4ace-d0a1-45de7d798e62"
      },
      "execution_count": 22,
      "outputs": [
        {
          "output_type": "execute_result",
          "data": {
            "text/plain": [
              "False"
            ]
          },
          "metadata": {},
          "execution_count": 22
        }
      ]
    },
    {
      "cell_type": "code",
      "source": [
        "filenames = ['inflammation-01.csv',\n",
        "         'myscript.py',\n",
        "         'inflammation-02.csv',\n",
        "         'small-01.csv',\n",
        "         'small-02.csv']\n",
        "large_files = []\n",
        "small_files = []\n",
        "other_files = []\n",
        "for filename in filenames:\n",
        "    if filename.startswith('inflammation-'):\n",
        "        large_files.append(filename)\n",
        "    elif filename.startswith('small-'):\n",
        "        small_files.append(filename)\n",
        "    else:\n",
        "        other_files.append(filename)\n",
        "\n",
        "print('large_files:', large_files)\n",
        "print('small_files:', small_files)\n",
        "print('other_files:', other_files)"
      ],
      "metadata": {
        "colab": {
          "base_uri": "https://localhost:8080/"
        },
        "id": "Niu6-GeZKOxI",
        "outputId": "53163579-bb88-442b-d98b-c095f13b7576"
      },
      "execution_count": 24,
      "outputs": [
        {
          "output_type": "stream",
          "name": "stdout",
          "text": [
            "large_files: ['inflammation-01.csv', 'inflammation-02.csv']\n",
            "small_files: ['small-01.csv', 'small-02.csv']\n",
            "other_files: ['myscript.py']\n"
          ]
        }
      ]
    },
    {
      "cell_type": "code",
      "source": [
        "vowels = 'aeiouAEIOU'\n",
        "sentence = 'Mary had a little lamb.'\n",
        "count = 0\n",
        "for char in sentence:\n",
        "    if char in vowels:\n",
        "        count += 1\n",
        "\n",
        "print('The number of vowels in this string is ' + str(count))"
      ],
      "metadata": {
        "colab": {
          "base_uri": "https://localhost:8080/"
        },
        "id": "0JX0UhKmKaNy",
        "outputId": "e6177db3-0bbc-4eb7-f6cb-5d845e647a87"
      },
      "execution_count": 25,
      "outputs": [
        {
          "output_type": "stream",
          "name": "stdout",
          "text": [
            "The number of vowels in this string is 6\n"
          ]
        }
      ]
    }
  ]
}