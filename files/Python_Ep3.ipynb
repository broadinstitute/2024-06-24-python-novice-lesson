{
  "nbformat": 4,
  "nbformat_minor": 0,
  "metadata": {
    "colab": {
      "provenance": [],
      "authorship_tag": "ABX9TyO4TllBfjaAhJvwyeMCZnik",
      "include_colab_link": true
    },
    "kernelspec": {
      "name": "python3",
      "display_name": "Python 3"
    },
    "language_info": {
      "name": "python"
    }
  },
  "cells": [
    {
      "cell_type": "markdown",
      "metadata": {
        "id": "view-in-github",
        "colab_type": "text"
      },
      "source": [
        "<a href=\"https://colab.research.google.com/github/broadinstitute/2024-06-24-python-novice-lesson/blob/jlc_add_colab_info/episodes/files/Python_Ep3.ipynb\" target=\"_parent\"><img src=\"https://colab.research.google.com/assets/colab-badge.svg\" alt=\"Open In Colab\"/></a>"
      ]
    },
    {
      "cell_type": "markdown",
      "source": [
        "## Intro to Python Epsiode 3"
      ],
      "metadata": {
        "id": "uyKZzqLW_rqM"
      }
    },
    {
      "cell_type": "markdown",
      "source": [
        "### Episode setup (You will need to grant Google several access permissions)"
      ],
      "metadata": {
        "id": "a5JGtbKO_WKh"
      }
    },
    {
      "cell_type": "code",
      "execution_count": null,
      "metadata": {
        "id": "_zukM5mT8fzn"
      },
      "outputs": [],
      "source": [
        "from google.colab import drive\n",
        "drive.mount('/content/drive').\n",
        "file_path = '/content/drive/MyDrive/swc-python/data/'\n",
        "import numpy\n",
        "data = numpy.loadtxt(fname=file_path+'inflammation-01.csv', delimiter=',')"
      ]
    }
  ]
}